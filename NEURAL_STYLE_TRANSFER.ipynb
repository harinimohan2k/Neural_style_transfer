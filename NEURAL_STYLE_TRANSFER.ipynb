{
  "nbformat": 4,
  "nbformat_minor": 0,
  "metadata": {
    "colab": {
      "provenance": []
    },
    "kernelspec": {
      "name": "python3",
      "display_name": "Python 3"
    },
    "language_info": {
      "name": "python"
    }
  },
  "cells": [
    {
      "cell_type": "markdown",
      "source": [
        "### Step 1 – Importing Libraries required for Neural Style Transfer."
      ],
      "metadata": {
        "id": "PDc8PS3arXi5"
      }
    },
    {
      "cell_type": "code",
      "execution_count": null,
      "metadata": {
        "id": "y2STQ_-jpXjd"
      },
      "outputs": [],
      "source": [
        "import time\n",
        "import imageio\n",
        "import numpy as np\n",
        "import tensorflow as tf\n",
        "from matplotlib import pyplot as plt\n",
        "from scipy.optimize import fmin_l_bfgs_b\n",
        "from tensorflow.keras import backend as K\n",
        "from tensorflow.keras.applications import vgg16\n",
        "from tensorflow.keras.preprocessing.image import load_img, img_to_array\n",
        "\n",
        "tf.compat.v1.disable_eager_execution()\n",
        "\n",
        "%matplotlib inline"
      ]
    },
    {
      "cell_type": "markdown",
      "source": [
        "### STEP- 2 Read the content and style images."
      ],
      "metadata": {
        "id": "NMcT0GeRpycY"
      }
    },
    {
      "cell_type": "code",
      "source": [
        "# This is the path to the image you want to transform.\n",
        "target_image_path = './images/eiffel.jpg'\n",
        "\n",
        "# This is the path to the style image.\n",
        "style_reference_image_path = './images/thescream.jpg'\n",
        "\n",
        "result_prefix = style_reference_image_path.split(\"images/\")[1][:-4] + '_onto_' + target_image_path.split(\"images/\")[1][:-4]\n",
        "\n",
        "# Dimensions of the generated picture.\n",
        "width, height = load_img(target_image_path).size\n",
        "img_height = 400\n",
        "img_width = int(width * img_height / height)\n"
      ],
      "metadata": {
        "id": "mgHbaLAepZmi"
      },
      "execution_count": null,
      "outputs": []
    },
    {
      "cell_type": "code",
      "source": [
        "\n",
        "def preprocess_image(image_path):\n",
        "    img = load_img(image_path, target_size=(img_height, img_width))\n",
        "    img = img_to_array(img)\n",
        "    img = np.expand_dims(img, axis=0)\n",
        "    img = vgg16.preprocess_input(img)\n",
        "    return img\n",
        "\n",
        "def deprocess_image(x):\n",
        "    # Remove zero-center by mean pixel and adding standardizing values to B,G,R channels respectively\n",
        "    x[:, :, 0] += 103.939\n",
        "    x[:, :, 1] += 116.779\n",
        "    x[:, :, 2] += 123.68\n",
        "    # 'BGR'->'RGB'\n",
        "    x = x[:, :, ::-1]\n",
        "    x = np.clip(x, 0, 255).astype('uint8') # limits the value of x between 0 and 255\n",
        "    return x"
      ],
      "metadata": {
        "id": "ZJ6NSzjdpsfK"
      },
      "execution_count": null,
      "outputs": []
    },
    {
      "cell_type": "markdown",
      "source": [
        "### STEP - 3 Defining some utility functions for Neural Style **Transfer**"
      ],
      "metadata": {
        "id": "GZWGWu5TqDq7"
      }
    },
    {
      "cell_type": "code",
      "source": [
        "def content_loss(target, final):\n",
        "    return K.sum(K.square(target-final))\n",
        "\n",
        "def gram_matrix(x):\n",
        "    features = K.batch_flatten(K.permute_dimensions(x, (2, 0, 1)))\n",
        "    gram = K.dot(features, K.transpose(features))\n",
        "    return gram\n",
        "\n",
        "def style_loss(style, final_img):\n",
        "    S = gram_matrix(style)\n",
        "    F = gram_matrix(final_img)\n",
        "    channels = 3\n",
        "    size = img_height * img_width\n",
        "    return K.sum(K.square(S - F)) / (4. * (channels ** 2) * (size ** 2))\n",
        "\n",
        "def total_variation_loss(x):\n",
        "    a = K.square(x[:, :img_height - 1, :img_width - 1, :] - x[:, 1:, :img_width - 1, :])\n",
        "    b = K.square(x[:, :img_height - 1, :img_width - 1, :] - x[:, :img_height - 1, 1:, :])\n",
        "    return K.sum(K.pow(a + b, 1.25))"
      ],
      "metadata": {
        "id": "_rVBlA0mptq2"
      },
      "execution_count": null,
      "outputs": []
    },
    {
      "cell_type": "markdown",
      "source": [
        "### STEP- 4 Loading the VGG model for Neural Style Transfer."
      ],
      "metadata": {
        "id": "CZdQVzjfqVL5"
      }
    },
    {
      "cell_type": "code",
      "source": [
        "# load reference image and style image\n",
        "target_image = K.constant(preprocess_image(target_image_path))\n",
        "style_reference_image = K.constant(preprocess_image(style_reference_image_path))\n",
        "\n",
        "# This placeholder will contain our final generated image\n",
        "final_image = K.placeholder((1, img_height, img_width, 3))\n",
        "\n",
        "# We combine the 3 images into a single batch\n",
        "input_tensor = K.concatenate([target_image,\n",
        "                              style_reference_image,\n",
        "                              final_image], axis=0)\n",
        "\n",
        "# We build the VGG16 network with our batch of 3 images as input.\n",
        "# The model will be loaded with pre-trained ImageNet weights.\n",
        "model = vgg16.VGG16(input_tensor=input_tensor,\n",
        "                    weights='imagenet',\n",
        "                    include_top=False)\n",
        "\n",
        "print('Model loaded.')"
      ],
      "metadata": {
        "id": "uxK2jTR6qKYb"
      },
      "execution_count": null,
      "outputs": []
    },
    {
      "cell_type": "markdown",
      "source": [
        "### Step 5 – Computing losses of Neural Style Transfer model."
      ],
      "metadata": {
        "id": "AJl2G7AyqlgL"
      }
    },
    {
      "cell_type": "code",
      "source": [
        "# creatin a dictionary containing layer_name:layer_output\n",
        "outputs_dict = dict([(layer.name, layer.output) for layer in model.layers])\n",
        "\n",
        "# Name of layer used for content loss\n",
        "content_layer = 'block5_conv2'\n",
        "\n",
        "# Name of layers used for style loss\n",
        "style_layers = ['block1_conv1',\n",
        "                'block2_conv1',\n",
        "                'block3_conv1',\n",
        "                'block4_conv1',\n",
        "                'block5_conv1']\n",
        "\n",
        "# Weights in the weighted average of the loss components\n",
        "total_variation_weight = 1e-4 #(randomly taken)\n",
        "style_weight = 1.             #(randomly taken)\n",
        "content_weight = 0.025        #(randomly taken)\n",
        "\n",
        "# Define the loss by adding all components to a `loss` variable\n",
        "loss = K.variable(0.)\n",
        "layer_features = outputs_dict[content_layer]\n",
        "target_image_features = layer_features[0, :, :, :] #as we concatenated them above and here 1 will be style fetures\n",
        "combination_features = layer_features[2, :, :, :]\n",
        "loss = loss + content_weight * content_loss(target_image_features,combination_features)# adding content loss\n",
        "\n",
        "for layer_name in style_layers:\n",
        "\n",
        "    layer_features = outputs_dict[layer_name]\n",
        "\n",
        "    style_reference_features = layer_features[1, :, :, :]\n",
        "    combination_features = layer_features[2, :, :, :]\n",
        "\n",
        "    sl = style_loss(style_reference_features, combination_features)\n",
        "    loss += sl * (style_weight / len(style_layers))      #adding style loss\n",
        "\n",
        "loss += total_variation_weight * total_variation_loss(final_image)\n",
        "\n",
        "# Get the gradient of the loss wrt the final image means how is loss changing wrt final image\n",
        "grads = K.gradients(loss, final_image)[0]\n",
        "\n",
        "# Function to fetch the values of the current loss and the current gradients\n",
        "fetch_loss_and_grads = K.function([final_image], [loss, grads])"
      ],
      "metadata": {
        "id": "ciObTXV1qat2"
      },
      "execution_count": null,
      "outputs": []
    },
    {
      "cell_type": "markdown",
      "source": [
        "### Step 6 – Defining Evaluator class.\n"
      ],
      "metadata": {
        "id": "1atj4V99r7rn"
      }
    },
    {
      "cell_type": "code",
      "source": [
        "class Evaluator(object):\n",
        "\n",
        "    def __init__(self):\n",
        "        self.loss_value = None\n",
        "        self.grads_values = None\n",
        "\n",
        "    def loss(self, x):\n",
        "        assert self.loss_value is None\n",
        "        x = x.reshape((1, img_height, img_width, 3))\n",
        "        outs = fetch_loss_and_grads([x])\n",
        "        loss_value = outs[0]\n",
        "        grad_values = outs[1].flatten().astype('float64')\n",
        "        self.loss_value = loss_value\n",
        "        self.grad_values = grad_values\n",
        "        return self.loss_value\n",
        "\n",
        "    def grads(self, x):\n",
        "        assert self.loss_value is not None\n",
        "        grad_values = np.copy(self.grad_values)\n",
        "        self.loss_value = None\n",
        "        self.grad_values = None\n",
        "        return grad_values\n",
        "\n",
        "evaluator = Evaluator()"
      ],
      "metadata": {
        "id": "fWca-eYmr8NX"
      },
      "execution_count": null,
      "outputs": []
    },
    {
      "cell_type": "markdown",
      "source": [
        "### Step 7 – Training our Neural Style Transfer model."
      ],
      "metadata": {
        "id": "BaHgBaM9sJIR"
      }
    },
    {
      "cell_type": "code",
      "source": [
        "# After 10 iterations little change occurs\n",
        "iterations = 10\n",
        "\n",
        "# Run scipy-based optimization (L-BFGS) over the pixels of the generated image so as to minimize the neural style loss.\n",
        "# This is our initial state: the target image.\n",
        "# Note that `scipy.optimize.fmin_l_bfgs_b` can only process flat vectors.\n",
        "x = preprocess_image(target_image_path)\n",
        "x = x.flatten()\n",
        "\n",
        "# fmin_l_bfgs_b(func,x) minimizes a function func using the L-BFGS-B algorithm where\n",
        "# x is the initial guess\n",
        "# fprime is gradient of the function\n",
        "# maxfun is Maximum number of function evaluations.\n",
        "\n",
        "# returns x which is Estimated position of the minimum.\n",
        "# minval -> Value of func at the minimum.\n",
        "\n",
        "for i in range(iterations):\n",
        "    print('Start of iteration', i)\n",
        "    start_time = time.time()\n",
        "    estiated_min, func_val_at_min, info = fmin_l_bfgs_b(evaluator.loss, x,fprime=evaluator.grads, maxfun=20)\n",
        "    print('Current loss value:', func_val_at_min)\n",
        "\n",
        "    # Save current generated image\n",
        "    img = estiated_min.copy().reshape((img_height, img_width, 3))\n",
        "    img = deprocess_image(img)\n",
        "    fname = \"./outputs/\" + result_prefix + '_at_iteration_%d.png' % i\n",
        "    imageio.imwrite(fname, img)\n",
        "    end_time = time.time()\n",
        "    print('Image saved as', fname)\n",
        "    print('Iteration %d completed in %ds' % (i, end_time - start_time))\n",
        "    print('\\n')"
      ],
      "metadata": {
        "id": "MPJzFmCnsKJQ"
      },
      "execution_count": null,
      "outputs": []
    },
    {
      "cell_type": "markdown",
      "source": [
        "### Step 8 – Visualizing the Neural Style Transfer results."
      ],
      "metadata": {
        "id": "f4jcHvQXso-U"
      }
    },
    {
      "cell_type": "code",
      "source": [
        "plt.figure(figsize=(15,8))\n",
        "\n",
        "# Content image\n",
        "plt.subplot(131)\n",
        "plt.title('Content Image')\n",
        "plt.imshow(load_img(target_image_path, target_size=(img_height, img_width)))\n",
        "\n",
        "# Style image\n",
        "plt.subplot(132)\n",
        "plt.title('Style Image')\n",
        "plt.imshow(load_img(style_reference_image_path, target_size=(img_height, img_width)))\n",
        "\n",
        "# Generate image\n",
        "plt.subplot(133)\n",
        "plt.title('Generated Image')\n",
        "plt.imshow(img)"
      ],
      "metadata": {
        "id": "F48EA3PRsp6v"
      },
      "execution_count": null,
      "outputs": []
    }
  ]
}